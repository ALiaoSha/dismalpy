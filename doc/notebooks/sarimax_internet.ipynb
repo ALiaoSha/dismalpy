{
 "cells": [
  {
   "cell_type": "markdown",
   "metadata": {},
   "source": [
    "## Durbin and Koopman: Box-Jenkins Examples\n",
    "\n",
    "See Durbin and Koopman (2012), Chapter 8.4"
   ]
  },
  {
   "cell_type": "code",
   "execution_count": null,
   "metadata": {
    "collapsed": false
   },
   "outputs": [],
   "source": [
    "%matplotlib inline"
   ]
  },
  {
   "cell_type": "code",
   "execution_count": null,
   "metadata": {
    "collapsed": false
   },
   "outputs": [],
   "source": [
    "import numpy as np\n",
    "import pandas as pd\n",
    "from dismalpy import ssm\n",
    "import matplotlib.pyplot as plt"
   ]
  },
  {
   "cell_type": "code",
   "execution_count": null,
   "metadata": {
    "collapsed": false
   },
   "outputs": [],
   "source": [
    "# Get the basic series\n",
    "dinternet = np.array(pd.read_csv('data/internet.csv').diff()[1:])\n",
    "\n",
    "# Remove datapoints\n",
    "missing = np.r_[6,16,26,36,46,56,66,72,73,74,75,76,86,96]-1\n",
    "dinternet[missing] = np.nan\n",
    "\n",
    "# Statespace\n",
    "mod = ssm.SARIMAX(dinternet, order=(1,0,1))\n",
    "res = mod.fit()\n",
    "print res.summary()"
   ]
  },
  {
   "cell_type": "code",
   "execution_count": null,
   "metadata": {
    "collapsed": false
   },
   "outputs": [],
   "source": [
    "# In-sample one-step-ahead predictions, and out-of-sample forecasts\n",
    "nforecast = 20\n",
    "predict = res.get_prediction(end=mod.nobs + nforecast)\n",
    "idx = np.arange(len(predict.predicted_mean))\n",
    "predict_ci = predict.conf_int(alpha=0.5)\n",
    "\n",
    "# Graph\n",
    "fig, ax = plt.subplots(figsize=(12,6))\n",
    "ax.xaxis.grid()\n",
    "ax.plot(dinternet, 'k.')\n",
    "\n",
    "# Plot\n",
    "ax.plot(idx[:-nforecast], predict.predicted_mean[:-nforecast], 'gray')\n",
    "ax.plot(idx[-nforecast:], predict.predicted_mean[-nforecast:], 'k--', linestyle='--', linewidth=2)\n",
    "ax.fill_between(idx, predict_ci[:, 0], predict_ci[:, 1], alpha=0.15)\n",
    "\n",
    "ax.set(title='Figure 8.9 - Internet series');"
   ]
  }
 ],
 "metadata": {
  "kernelspec": {
   "display_name": "Python 2",
   "language": "python",
   "name": "python2"
  },
  "language_info": {
   "codemirror_mode": {
    "name": "ipython",
    "version": 2
   },
   "file_extension": ".py",
   "mimetype": "text/x-python",
   "name": "python",
   "nbconvert_exporter": "python",
   "pygments_lexer": "ipython2",
   "version": "2.7.6"
  }
 },
 "nbformat": 4,
 "nbformat_minor": 0
}
