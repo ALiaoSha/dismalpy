{
 "metadata": {
  "name": "",
  "signature": "sha256:37b54d6a3fd200dd9be15fa17670e9c5ade263f6bed680390752d7e374281754"
 },
 "nbformat": 3,
 "nbformat_minor": 0,
 "worksheets": [
  {
   "cells": [
    {
     "cell_type": "code",
     "collapsed": false,
     "input": [
      "%matplotlib inline\n",
      "from __future__ import division\n",
      "\n",
      "import time\n",
      "import tables as pt\n",
      "import numpy as np\n",
      "import pandas as pd\n",
      "import favar_bgm as fb\n",
      "from dismalpy import ssm\n",
      "from dismalpy.ssm import dynamic_factors as df\n",
      "from dismalpy.stats.rvs import gamma, normal, wishart\n",
      "from dismalpy.reg import var\n",
      "from dismalpy.reg._var import _var_posteriors, _var_quantities\n",
      "\n",
      "import matplotlib.pyplot as plt\n",
      "#import matplotlib.dates as mdates\n",
      "np.set_printoptions(precision=10, suppress=True, linewidth=120)\n",
      "\n",
      "columns = pd.read_csv('data/favar_bgm_columns.csv')\n",
      "columns.index = columns.column\n",
      "del columns['column']\n",
      "columns.sort(inplace=True)\n",
      "dates = pd.date_range('1976-02','2005-06', freq='MS')\n",
      "\n",
      "# Get the data\n",
      "raw = pd.read_csv('data/data76.csv', header=None)\n",
      "raw.columns = columns.id.tolist()\n",
      "raw.index = dates\n",
      "\n",
      "# Only take the BBE dataset\n",
      "#raw = raw.iloc[:,:110]\n",
      "\n",
      "# Standardize the variables\n",
      "dta = (raw - raw.mean()) / raw.std()\n",
      "\n",
      "# Separate into observed economic variables and background variables\n",
      "observed = dta['FYFF']\n",
      "informational = dta.drop('FYFF', axis=1)"
     ],
     "language": "python",
     "metadata": {},
     "outputs": []
    },
    {
     "cell_type": "code",
     "collapsed": false,
     "input": [
      "reload(fb)\n",
      "reload(var)\n",
      "reload(wishart)\n",
      "reload(gamma)\n",
      "reload(normal)\n",
      "\n",
      "# Construct the model\n",
      "mod = df.FAVAR(observed, informational, k_factors=5, order=13)\n",
      "\n",
      "# Set to use the univariate filter with observation collapsing\n",
      "mod.filter_method = ssm.FILTER_COLLAPSED | ssm.FILTER_UNIVARIATE\n",
      "mod._initialize_representation()\n",
      "mod._statespace.subset_design = True\n",
      "mod._statespace.companion_transition = True\n",
      "mod.endog.shape\n",
      "\n",
      "# Observation variances prior: Gamma hyperparameters\n",
      "prior_obs_prec_shape = 1e-4 # 2*alpha\n",
      "prior_obs_prec_rate = 3    # 2*beta\n",
      "prior_obs_prec_exp = ((prior_obs_prec_shape/2.) / (prior_obs_prec_rate/2.))\n",
      "print 'Prior expected value of obs. variances is %.5f' % (1./prior_obs_prec_exp)\n",
      "\n",
      "# Observation loadings prior: Normal hyperparameters\n",
      "prior_loading_mean = np.zeros(mod.k_posdef)\n",
      "prior_loading_var = np.eye(mod.k_posdef)\n",
      "\n",
      "# State precision prior\n",
      "prior_state_prec_df = mod.k_posdef\n",
      "prior_state_prec_scale = np.eye(mod.k_posdef)\n",
      "\n",
      "# State prior\n",
      "prior_state_mean = np.zeros(mod.k_var)\n",
      "prior_state_var = np.eye(mod.k_var)*0.01\n",
      "\n",
      "# Iterations\n",
      "np.random.seed(1234)\n",
      "%timeit sample(mod, 10, 0, True)"
     ],
     "language": "python",
     "metadata": {},
     "outputs": []
    },
    {
     "cell_type": "code",
     "collapsed": false,
     "input": [
      "G1 = 2000\n",
      "G = 10000\n",
      "tic = time.time()\n",
      "sample(mod, G1, G, True)\n",
      "print time.time() - tic"
     ],
     "language": "python",
     "metadata": {},
     "outputs": []
    },
    {
     "cell_type": "code",
     "collapsed": false,
     "input": [
      "G1 = 12000\n",
      "mod2 = df.FAVAR(observed, informational, k_factors=2, order=13)\n",
      "params = np.r_[\n",
      "    loadings[G1:].mean(0).ravel(), obs_cov[G1:].mean(0),\n",
      "    phi[G1:].mean(0), state_cov[G1:].mean(0).ravel()\n",
      "]\n",
      "mod2.update(params)\n",
      "np.set_printoptions(precision=5)"
     ],
     "language": "python",
     "metadata": {},
     "outputs": []
    },
    {
     "cell_type": "code",
     "collapsed": false,
     "input": [
      "mod.endog"
     ],
     "language": "python",
     "metadata": {},
     "outputs": []
    },
    {
     "cell_type": "code",
     "collapsed": false,
     "input": [
      "fig, ax = plt.subplots(figsize=(15,8))\n",
      "ax.plot(phi[:,[i+i*mod.k_states for i in range(5)]]);"
     ],
     "language": "python",
     "metadata": {},
     "outputs": []
    }
   ],
   "metadata": {}
  }
 ]
}