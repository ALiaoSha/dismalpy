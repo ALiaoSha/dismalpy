{
 "metadata": {
  "name": "",
  "signature": "sha256:ff973d0b85392942b387bc76ef04387df3afd3d61c9363ee9bf64bab991a4d02"
 },
 "nbformat": 3,
 "nbformat_minor": 0,
 "worksheets": [
  {
   "cells": [
    {
     "cell_type": "code",
     "collapsed": false,
     "input": [
      "import statsmodels.api as sm\n",
      "import pandas as pd\n",
      "import numpy as np\n",
      "import datetime as dt\n",
      "from matplotlib import pyplot as plt\n",
      "fmt='%6.4f'\n",
      "tsval=np.load('data/ts.npy')\n",
      "tsv=tsval\n",
      "tsval=tsval[0:1826]\n",
      "rng=pd.date_range('1/1/2003',periods=1826,freq='D')\n",
      "ts=pd.Series(tsval, index=rng,dtype='float64')\n",
      "ts=ts-ts.mean()\n",
      "#ar3ma2_mod = sm.tsa.ARMA(ts,(3,2)).fit()"
     ],
     "language": "python",
     "metadata": {},
     "outputs": [],
     "prompt_number": 1
    },
    {
     "cell_type": "code",
     "collapsed": false,
     "input": [
      "#%%timeit\n",
      "#1 loops, best of 3: 1min 31s per loop\n",
      "ar3ma3_mod = sm.tsa.ARMA(ts,(3,3)).fit()\n",
      "#[ 0.59558766  5.5424829  -2.51330662 -0.11096141  4.64310102 -1.65442586\n",
      "# -0.56463589]"
     ],
     "language": "python",
     "metadata": {},
     "outputs": [],
     "prompt_number": 4
    },
    {
     "cell_type": "code",
     "collapsed": false,
     "input": [
      "print ar3ma3_mod.summary()"
     ],
     "language": "python",
     "metadata": {},
     "outputs": [
      {
       "output_type": "stream",
       "stream": "stdout",
       "text": [
        "                              ARMA Model Results                              \n",
        "==============================================================================\n",
        "Dep. Variable:                      y   No. Observations:                 1826\n",
        "Model:                     ARMA(3, 3)   Log Likelihood               -5260.181\n",
        "Method:                       css-mle   S.D. of innovations              4.299\n",
        "Date:                Fri, 14 Mar 2014   AIC                          10536.362\n",
        "Time:                        09:34:52   BIC                          10580.441\n",
        "Sample:                    01-01-2003   HQIC                         10552.621\n",
        "                         - 12-31-2007                                         \n",
        "==============================================================================\n",
        "                 coef    std err          z      P>|z|      [95.0% Conf. Int.]\n",
        "------------------------------------------------------------------------------\n",
        "const          0.3777      2.961      0.128      0.899        -5.425     6.181\n",
        "ar.L1.y        1.8210      0.115     15.862      0.000         1.596     2.046\n",
        "ar.L2.y       -0.7969      0.199     -4.000      0.000        -1.187    -0.406\n",
        "ar.L3.y       -0.0382      0.089     -0.427      0.669        -0.213     0.137\n",
        "ma.L1.y        0.4773      0.112      4.262      0.000         0.258     0.697\n",
        "ma.L2.y       -0.7932      0.068    -11.582      0.000        -0.927    -0.659\n",
        "ma.L3.y       -0.2705      0.068     -3.960      0.000        -0.404    -0.137\n",
        "                                    Roots                                    \n",
        "=============================================================================\n",
        "                 Real           Imaginary           Modulus         Frequency\n",
        "-----------------------------------------------------------------------------\n",
        "AR.1            1.0618           -0.1072j            1.0672           -0.0160\n",
        "AR.2            1.0618           +0.1072j            1.0672            0.0160\n",
        "AR.3          -22.9922           -0.0000j           22.9922           -0.5000\n",
        "MA.1            1.1856           +0.0000j            1.1856            0.0000\n",
        "MA.2           -1.0001           +0.0000j            1.0001            0.5000\n",
        "MA.3           -3.1174           +0.0000j            3.1174            0.5000\n",
        "-----------------------------------------------------------------------------\n"
       ]
      }
     ],
     "prompt_number": 6
    },
    {
     "cell_type": "markdown",
     "metadata": {},
     "source": [
      "## State-Space"
     ]
    },
    {
     "cell_type": "code",
     "collapsed": false,
     "input": [
      "from scipy import optimize, signal\n",
      "import statespace as ss\n",
      "np.set_printoptions(suppress=True)"
     ],
     "language": "python",
     "metadata": {},
     "outputs": [],
     "prompt_number": 7
    },
    {
     "cell_type": "code",
     "collapsed": false,
     "input": [
      "# Create the State Space representation\n",
      "mod = ss.ARMA(ts, order=(3,3))"
     ],
     "language": "python",
     "metadata": {},
     "outputs": [],
     "prompt_number": 16
    },
    {
     "cell_type": "code",
     "collapsed": false,
     "input": [
      "#%%timeit\n",
      "# 1 loops, best of 3: 7.57 s per loop\n",
      "\n",
      "# Maximum likelihood: BFGS\n",
      "est = ss.Estimator(mod)\n",
      "f = lambda params: -est.loglike(params)\n",
      "res_bfgs_full = optimize.fmin_bfgs(f, mod.unconstrain(mod.start_params), full_output=True)\n",
      "res_bfgs = res_bfgs_full[0]\n",
      "est_var_bfgs = res_bfgs_full[3]"
     ],
     "language": "python",
     "metadata": {},
     "outputs": [
      {
       "output_type": "stream",
       "stream": "stdout",
       "text": [
        "Warning: Desired error not necessarily achieved due to precision loss.\n",
        "         Current function value: 5260.182564\n",
        "         Iterations: 146\n",
        "         Function evaluations: 1794\n",
        "         Gradient evaluations: 198\n"
       ]
      }
     ],
     "prompt_number": 17
    },
    {
     "cell_type": "code",
     "collapsed": false,
     "input": [
      "res = mod.estimate(res_bfgs)\n",
      "print res.loglike()\n",
      "# Note: in the ARMA, it assumes the data is de-meaned and so does not (right now)\n",
      "# estimate a constant term. This is the case in this example.\n",
      "print 'AR Params = ', res.params[3:-1]\n",
      "print 'MA Params = ', res.params[0:3]\n",
      "print 'SD = ', res.params[-1]**0.5\n",
      "#[0.3777, 1.8210, -0.7969, -0.0382, 0.4773, -0.7932, -0.2705"
     ],
     "language": "python",
     "metadata": {},
     "outputs": [
      {
       "output_type": "stream",
       "stream": "stdout",
       "text": [
        "-5260.18256403\n",
        "AR Params =  [ 1.8236861  -0.80259487 -0.035131  ]\n",
        "MA Params =  [ 0.47471834 -0.79252917 -0.26724921]\n",
        "SD =  4.29858761973\n"
       ]
      }
     ],
     "prompt_number": 19
    }
   ],
   "metadata": {}
  }
 ]
}